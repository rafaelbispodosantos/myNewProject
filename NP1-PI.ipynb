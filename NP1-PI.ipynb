{
  "nbformat": 4,
  "nbformat_minor": 0,
  "metadata": {
    "colab": {
      "name": "Untitled3.ipynb",
      "provenance": [],
      "collapsed_sections": [],
      "authorship_tag": "ABX9TyNF1su87QhnlAcAsNM4B3XD",
      "include_colab_link": true
    },
    "kernelspec": {
      "name": "python3",
      "display_name": "Python 3"
    }
  },
  "cells": [
    {
      "cell_type": "markdown",
      "metadata": {
        "id": "view-in-github",
        "colab_type": "text"
      },
      "source": [
        "<a href=\"https://colab.research.google.com/github/rafaelbispodosantos/myNewProject/blob/master/NP1-PI.ipynb\" target=\"_parent\"><img src=\"https://colab.research.google.com/assets/colab-badge.svg\" alt=\"Open In Colab\"/></a>"
      ]
    },
    {
      "cell_type": "code",
      "metadata": {
        "id": "5jem42GETGJ0",
        "outputId": "08074fc1-024c-4791-8af7-ef11a78c80ef",
        "colab": {
          "base_uri": "https://localhost:8080/",
          "height": 510
        }
      },
      "source": [
        "import random\n",
        "from collections import defaultdict\n",
        "\n",
        "x =  int(input('digite o valor de pixels  que você ira inserir? '))\n",
        "f_x = [] #vetor onde cada pixels assumi niveis(k)  que varia de 0 a 9\n",
        "for i in range(x):\n",
        "     try:\n",
        "        vetaux = int(input(\"Informe o valor do pixels entre 0 e 10: \"))\n",
        "        if not 0 <= vetaux <= 10:\n",
        "            raise ValueError(\"pixels fora do range permitido\")\n",
        "        f_x.append(vetaux)\n",
        "        \n",
        "     except ValueError as e:\n",
        "        print(\"Valor do pixels inválido:\", e)\n",
        "\n",
        "\n",
        "\n",
        "print(\"     f(x) -> \", f_x)\n",
        "\n",
        "maior = max(f_x)\n",
        "menor = min(f_x)\n",
        "\n",
        "k=[]\n",
        "for i in range(menor, maior + 1):\n",
        "    k.append(i)\n",
        "h_k=[] #carregando (k)\n",
        "for i in k:\n",
        "    h_k.append(f_x.count(i))\n",
        "\n",
        "#imprima K e H(k)\n",
        "print(\"       K  -> \", k) \n",
        "print( \"     H(k) -> \",h_k)\n",
        "\n",
        "#Carregando e calculando Ha(k)\n",
        "Ha_k=[] \n",
        "for y,z in enumerate(h_k):\n",
        " if y == 0:\n",
        "       Ha_k.append(z)\n",
        " else:\n",
        "     Ha_k.append(Ha_k[y-1]+z)\n",
        "print(\"    Ha(k) -> \",Ha_k)  \n",
        "\n",
        "#carregando e calculando Pk=Ha(k)/N \n",
        "pk=[]\n",
        "for y,z in enumerate(Ha_k):\n",
        "  pk.append(Ha_k[y]/20)\n",
        "print(\"Pk=Ha(k)/N-> \",pk)  \n",
        "\n",
        "#Carregando e calculando K'=9Pk\n",
        "k_linha=[]\n",
        "for y,z in enumerate(pk):\n",
        "  k_linha.append(int(pk[y]*9))\n",
        "print(\"   K'=9Pk -> \",k_linha) \n",
        "\n",
        "#Careegando g(x) equalizado \n",
        "g_x=f_x.copy()\n",
        "vetAux=[]\n",
        "for i in range(len(f_x)):\n",
        "    vetAux.append(0)\n",
        "for y, z in enumerate(k):\n",
        "  for a,b in enumerate(g_x):\n",
        "    if b==z and vetAux[a]==0:\n",
        "      g_x[a]=k_linha[y]\n",
        "      vetAux[a]=1\n",
        "print(\"     g(x) -> \",g_x)        \n",
        "\n",
        "\n",
        "\n"
      ],
      "execution_count": 124,
      "outputs": [
        {
          "output_type": "stream",
          "text": [
            "digite o valor de pixels  que você ira inserir? 20\n",
            "Informe o valor do pixels entre 0 e 10: 3\n",
            "Informe o valor do pixels entre 0 e 10: 1\n",
            "Informe o valor do pixels entre 0 e 10: 5\n",
            "Informe o valor do pixels entre 0 e 10: s\n",
            "Valor do pixels inválido: invalid literal for int() with base 10: 's'\n",
            "Informe o valor do pixels entre 0 e 10: 2\n",
            "Informe o valor do pixels entre 0 e 10: 0\n",
            "Informe o valor do pixels entre 0 e 10: 7\n",
            "Informe o valor do pixels entre 0 e 10: 9\n",
            "Informe o valor do pixels entre 0 e 10: 6\n",
            "Informe o valor do pixels entre 0 e 10: 3\n",
            "Informe o valor do pixels entre 0 e 10: 4\n",
            "Informe o valor do pixels entre 0 e 10: 5\n",
            "Informe o valor do pixels entre 0 e 10: 0\n",
            "Informe o valor do pixels entre 0 e 10: 3\n",
            "Informe o valor do pixels entre 0 e 10: 9\n",
            "Informe o valor do pixels entre 0 e 10: 8\n",
            "Informe o valor do pixels entre 0 e 10: 6\n",
            "Informe o valor do pixels entre 0 e 10: 3\n",
            "Informe o valor do pixels entre 0 e 10: 4\n",
            "Informe o valor do pixels entre 0 e 10: 2\n",
            "     f(x) ->  [3, 1, 5, 2, 0, 7, 9, 6, 3, 4, 5, 0, 3, 9, 8, 6, 3, 4, 2]\n",
            "       K  ->  [0, 1, 2, 3, 4, 5, 6, 7, 8, 9]\n",
            "     H(k) ->  [2, 1, 2, 4, 2, 2, 2, 1, 1, 2]\n",
            "    Ha(k) ->  [2, 3, 5, 9, 11, 13, 15, 16, 17, 19]\n",
            "Pk=Ha(k)/N->  [0.1, 0.15, 0.25, 0.45, 0.55, 0.65, 0.75, 0.8, 0.85, 0.95]\n",
            "   K'=9Pk ->  [0, 1, 2, 4, 4, 5, 6, 7, 7, 8]\n",
            "     g(x) ->  [4, 1, 5, 2, 0, 7, 8, 6, 4, 4, 5, 0, 4, 8, 7, 6, 4, 4, 2]\n"
          ],
          "name": "stdout"
        }
      ]
    },
    {
      "cell_type": "code",
      "metadata": {
        "id": "GkTkaB96oE-V"
      },
      "source": [
        ""
      ],
      "execution_count": null,
      "outputs": []
    }
  ]
}