{
  "nbformat": 4,
  "nbformat_minor": 0,
  "metadata": {
    "colab": {
      "name": "Untitled3.ipynb",
      "provenance": [],
      "collapsed_sections": [],
      "authorship_tag": "ABX9TyNPvnwu7h7g6iez2Zw1oXJu",
      "include_colab_link": true
    },
    "kernelspec": {
      "name": "python3",
      "display_name": "Python 3"
    }
  },
  "cells": [
    {
      "cell_type": "markdown",
      "metadata": {
        "id": "view-in-github",
        "colab_type": "text"
      },
      "source": [
        "<a href=\"https://colab.research.google.com/github/rafaelbispodosantos/myNewProject/blob/master/np1_PI01.ipynb\" target=\"_parent\"><img src=\"https://colab.research.google.com/assets/colab-badge.svg\" alt=\"Open In Colab\"/></a>"
      ]
    },
    {
      "cell_type": "code",
      "metadata": {
        "id": "5jem42GETGJ0",
        "outputId": "d445a01c-41d7-47df-8651-8f3409b84370",
        "colab": {
          "base_uri": "https://localhost:8080/",
          "height": 493
        }
      },
      "source": [
        "import random\n",
        "from collections import defaultdict\n",
        "\n",
        "x =  int(input('digite o valor de pixels  que você ira inserir? '))\n",
        "f_x = []\n",
        "for i in range(x):\n",
        "     try:\n",
        "        vetaux = int(input(\"Informe o valor do pixels entre 0 e 9: \"))\n",
        "        \n",
        "        if not 0 <= vetaux <= 9:\n",
        "            raise ValueError(\"pixels fora do range permitido\")\n",
        "            vetaux = int(input(\"Informe o valor do pixels entre 0 e 9: \"))\n",
        "        f_x.append(vetaux) #vetor onde cada pixels assumi niveis(k)  que varia de 0 a 9\n",
        "        \n",
        "     except ValueError as e:\n",
        "        print(\"Valor do pixels inválido:\", e)\n",
        "\n",
        "\n",
        "\n",
        "print(\"     f(x) -> \", f_x)\n",
        "\n",
        "maior = max(f_x)\n",
        "menor = min(f_x)\n",
        "\n",
        "k=[]\n",
        "for i in range(menor, maior + 1):\n",
        "    k.append(i)\n",
        "h_k=[] #carregando (k)\n",
        "for i in k:\n",
        "    h_k.append(f_x.count(i))\n",
        "\n",
        "#imprima K e H(k)\n",
        "print(\"       K  -> \", k) \n",
        "print( \"     H(k) -> \",h_k)\n",
        "\n",
        "#Carregando e calculando Ha(k)\n",
        "Ha_k=[] \n",
        "for y,z in enumerate(h_k):\n",
        " if y == 0:\n",
        "       Ha_k.append(z)\n",
        " else:\n",
        "     Ha_k.append(Ha_k[y-1]+z)\n",
        "print(\"    Ha(k) -> \",Ha_k)  \n",
        "\n",
        "#carregando e calculando Pk=Ha(k)/N \n",
        "pk=[]\n",
        "for y,z in enumerate(Ha_k):\n",
        "  pk.append(Ha_k[y]/20)\n",
        "print(\"Pk=Ha(k)/N-> \",pk)  \n",
        "\n",
        "#Carregando e calculando K'=9Pk\n",
        "k_linha=[]\n",
        "for y,z in enumerate(pk):\n",
        "  k_linha.append(int(pk[y]*9))\n",
        "print(\"   K'=9Pk -> \",k_linha) \n",
        "\n",
        "#Careegando g(x) equalizado \n",
        "g_x=f_x.copy()\n",
        "vetAux=[]\n",
        "for i in range(len(f_x)):\n",
        "    vetAux.append(0)\n",
        "for y, z in enumerate(k):\n",
        "  for a,b in enumerate(g_x):\n",
        "    if b==z and vetAux[a]==0:\n",
        "      g_x[a]=k_linha[y]\n",
        "      vetAux[a]=1\n",
        "print(\"     g(x) -> \",g_x)        \n",
        "\n",
        "\n",
        "\n"
      ],
      "execution_count": 136,
      "outputs": [
        {
          "output_type": "stream",
          "text": [
            "digite o valor de pixels  que você ira inserir? 20\n",
            "Informe o valor do pixels entre 0 e 9: 1\n",
            "Informe o valor do pixels entre 0 e 9: 2\n",
            "Informe o valor do pixels entre 0 e 9: 3\n",
            "Informe o valor do pixels entre 0 e 9: 6\n",
            "Informe o valor do pixels entre 0 e 9: 5\n",
            "Informe o valor do pixels entre 0 e 9: 4\n",
            "Informe o valor do pixels entre 0 e 9: 7\n",
            "Informe o valor do pixels entre 0 e 9: 8\n",
            "Informe o valor do pixels entre 0 e 9: 9\n",
            "Informe o valor do pixels entre 0 e 9: 3\n",
            "Informe o valor do pixels entre 0 e 9: 2\n",
            "Informe o valor do pixels entre 0 e 9: 1\n",
            "Informe o valor do pixels entre 0 e 9: 6\n",
            "Informe o valor do pixels entre 0 e 9: 5\n",
            "Informe o valor do pixels entre 0 e 9: 4\n",
            "Informe o valor do pixels entre 0 e 9: 8\n",
            "Informe o valor do pixels entre 0 e 9: 9\n",
            "Informe o valor do pixels entre 0 e 9: 7\n",
            "Informe o valor do pixels entre 0 e 9: 8\n",
            "Informe o valor do pixels entre 0 e 9: 5\n",
            "     f(x) ->  [1, 2, 3, 6, 5, 4, 7, 8, 9, 3, 2, 1, 6, 5, 4, 8, 9, 7, 8, 5]\n",
            "       K  ->  [1, 2, 3, 4, 5, 6, 7, 8, 9]\n",
            "     H(k) ->  [2, 2, 2, 2, 3, 2, 2, 3, 2]\n",
            "    Ha(k) ->  [2, 4, 6, 8, 11, 13, 15, 18, 20]\n",
            "Pk=Ha(k)/N->  [0.1, 0.2, 0.3, 0.4, 0.55, 0.65, 0.75, 0.9, 1.0]\n",
            "   K'=9Pk ->  [0, 1, 2, 3, 4, 5, 6, 8, 9]\n",
            "     g(x) ->  [0, 1, 2, 5, 4, 3, 6, 8, 9, 2, 1, 0, 5, 4, 3, 8, 9, 6, 8, 4]\n"
          ],
          "name": "stdout"
        }
      ]
    },
    {
      "cell_type": "code",
      "metadata": {
        "id": "GkTkaB96oE-V"
      },
      "source": [
        ""
      ],
      "execution_count": null,
      "outputs": []
    }
  ]
}